{
 "cells": [
  {
   "cell_type": "code",
   "execution_count": 1,
   "metadata": {},
   "outputs": [],
   "source": [
    "import surprise\n",
    "from surprise import Dataset, Reader\n",
    "from surprise import KNNBasic, KNNWithMeans, KNNBaseline\n",
    "from surprise.model_selection import cross_validate"
   ]
  },
  {
   "cell_type": "code",
   "execution_count": 2,
   "metadata": {},
   "outputs": [
    {
     "name": "stdout",
     "output_type": "stream",
     "text": [
      "Dataset ml-100k could not be found. Do you want to download it? [Y/n] Trying to download dataset from https://files.grouplens.org/datasets/movielens/ml-100k.zip...\n",
      "Done! Dataset ml-100k has been saved to /Users/mac/.surprise_data/ml-100k\n"
     ]
    }
   ],
   "source": [
    "data = Dataset.load_builtin('ml-100k')"
   ]
  },
  {
   "cell_type": "code",
   "execution_count": 3,
   "metadata": {},
   "outputs": [],
   "source": [
    "sim_options = {\n",
    "    \"name\": \"pearson\",\n",
    "    \"user_based\": True,  # 是否是用户相似度\n",
    "}\n",
    "algo = KNNBaseline(sim_options=sim_options)"
   ]
  },
  {
   "cell_type": "code",
   "execution_count": 4,
   "metadata": {},
   "outputs": [
    {
     "name": "stdout",
     "output_type": "stream",
     "text": [
      "Estimating biases using als...\n",
      "Computing the pearson similarity matrix...\n",
      "Done computing similarity matrix.\n",
      "Estimating biases using als...\n",
      "Computing the pearson similarity matrix...\n",
      "Done computing similarity matrix.\n",
      "Estimating biases using als...\n",
      "Computing the pearson similarity matrix...\n",
      "Done computing similarity matrix.\n",
      "Estimating biases using als...\n",
      "Computing the pearson similarity matrix...\n",
      "Done computing similarity matrix.\n",
      "Estimating biases using als...\n",
      "Computing the pearson similarity matrix...\n",
      "Done computing similarity matrix.\n",
      "Evaluating RMSE, MAE, FCP of algorithm KNNBaseline on 5 split(s).\n",
      "\n",
      "                  Fold 1  Fold 2  Fold 3  Fold 4  Fold 5  Mean    Std     \n",
      "RMSE (testset)    0.9251  0.9276  0.9313  0.9339  0.9438  0.9323  0.0065  \n",
      "MAE (testset)     0.7235  0.7290  0.7312  0.7364  0.7414  0.7323  0.0061  \n",
      "FCP (testset)     0.7050  0.7098  0.7123  0.7048  0.7058  0.7075  0.0030  \n",
      "RMSE (trainset)   0.6712  0.6701  0.6694  0.6703  0.6683  0.6699  0.0010  \n",
      "MAE (trainset)    0.5229  0.5218  0.5216  0.5215  0.5202  0.5216  0.0009  \n",
      "FCP (trainset)    0.8740  0.8753  0.8737  0.8739  0.8747  0.8743  0.0006  \n",
      "Fit time          0.54    0.64    0.58    0.55    0.53    0.57    0.04    \n",
      "Test time         2.20    2.37    2.29    2.12    2.15    2.22    0.09    \n"
     ]
    },
    {
     "data": {
      "text/plain": [
       "{'test_rmse': array([0.92511175, 0.92757481, 0.93129977, 0.93385032, 0.94382234]),\n",
       " 'train_rmse': array([0.67116492, 0.67013932, 0.66940947, 0.6703142 , 0.66825418]),\n",
       " 'test_mae': array([0.72353028, 0.72896033, 0.73118895, 0.7364458 , 0.74136807]),\n",
       " 'train_mae': array([0.52290454, 0.52183909, 0.52160557, 0.52147759, 0.52018935]),\n",
       " 'test_fcp': array([0.70501025, 0.70975805, 0.71233286, 0.70478563, 0.70576557]),\n",
       " 'train_fcp': array([0.87396746, 0.87530735, 0.87365975, 0.87389766, 0.87468941]),\n",
       " 'fit_time': (0.5445461273193359,\n",
       "  0.6425690650939941,\n",
       "  0.5814578533172607,\n",
       "  0.5472409725189209,\n",
       "  0.5317380428314209),\n",
       " 'test_time': (2.2047619819641113,\n",
       "  2.3676271438598633,\n",
       "  2.2900121212005615,\n",
       "  2.115718126296997,\n",
       "  2.146468162536621)}"
      ]
     },
     "execution_count": 4,
     "metadata": {},
     "output_type": "execute_result"
    }
   ],
   "source": [
    "cross_validate(algo, data, measures=['RMSE', 'MAE', 'fcp'], cv=5,\n",
    "                return_train_measures=True, verbose=True)"
   ]
  }
 ],
 "metadata": {
  "kernelspec": {
   "display_name": "pt",
   "language": "python",
   "name": "python3"
  },
  "language_info": {
   "codemirror_mode": {
    "name": "ipython",
    "version": 3
   },
   "file_extension": ".py",
   "mimetype": "text/x-python",
   "name": "python",
   "nbconvert_exporter": "python",
   "pygments_lexer": "ipython3",
   "version": "3.11.9"
  }
 },
 "nbformat": 4,
 "nbformat_minor": 2
}
